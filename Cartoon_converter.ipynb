{
 "cells": [
  {
   "cell_type": "markdown",
   "id": "d24172d9",
   "metadata": {},
   "source": [
    "# Cartoonifying an Image"
   ]
  },
  {
   "cell_type": "code",
   "execution_count": 3,
   "id": "23ae1c09",
   "metadata": {},
   "outputs": [
    {
     "name": "stdout",
     "output_type": "stream",
     "text": [
      "Collecting opencv-contrib-python\n",
      "  Using cached opencv_contrib_python-4.6.0.66-cp36-abi3-win_amd64.whl (42.5 MB)\n",
      "Requirement already satisfied: numpy>=1.19.3 in c:\\users\\anny\\anaconda3\\lib\\site-packages (from opencv-contrib-python) (1.20.3)\n",
      "Installing collected packages: opencv-contrib-python\n",
      "Note: you may need to restart the kernel to use updated packages.\n"
     ]
    },
    {
     "name": "stderr",
     "output_type": "stream",
     "text": [
      "ERROR: Could not install packages due to an OSError: [WinError 5] Access is denied: 'C:\\\\Users\\\\Anny\\\\anaconda3\\\\Lib\\\\site-packages\\\\cv2\\\\cv2.pyd'\n",
      "Consider using the `--user` option or check the permissions.\n",
      "\n"
     ]
    }
   ],
   "source": [
    "pip install opencv-contrib-python"
   ]
  },
  {
   "cell_type": "code",
   "execution_count": 11,
   "id": "9150d763",
   "metadata": {},
   "outputs": [
    {
     "name": "stdout",
     "output_type": "stream",
     "text": [
      "Requirement already satisfied: opencv-python in c:\\users\\anny\\anaconda3\\lib\\site-packages (4.6.0.66)\n",
      "Requirement already satisfied: numpy>=1.14.5 in c:\\users\\anny\\anaconda3\\lib\\site-packages (from opencv-python) (1.20.3)\n"
     ]
    }
   ],
   "source": [
    "!pip3 install opencv-python"
   ]
  },
  {
   "cell_type": "code",
   "execution_count": 12,
   "id": "1be0c2a0",
   "metadata": {},
   "outputs": [],
   "source": [
    "import cv2\n",
    "import numpy as np"
   ]
  },
  {
   "cell_type": "code",
   "execution_count": 13,
   "id": "bc289e88",
   "metadata": {},
   "outputs": [],
   "source": [
    "def read_img(filename):\n",
    "    img = cv2.imread(filename)\n",
    "    return img"
   ]
  },
  {
   "cell_type": "code",
   "execution_count": 14,
   "id": "1a1080db",
   "metadata": {},
   "outputs": [],
   "source": [
    "def edge_detection(img,line_wdt,blur):\n",
    "    grey = cv2.cvtColor(img,cv2.COLOR_BGR2GRAY)\n",
    "    greyBlur = cv2.medianBlur(grey,blur)\n",
    "    edges = cv2.adaptiveThreshold(greyBlur,255,cv2.ADAPTIVE_THRESH_MEAN_C,cv2.THRESH_BINARY,line_wdt,blur)\n",
    "    return edges"
   ]
  },
  {
   "cell_type": "code",
   "execution_count": 15,
   "id": "70449ff5",
   "metadata": {},
   "outputs": [],
   "source": [
    "def color_quantisation(img, k):\n",
    "    data = np.float32(img).reshape(  (-1,3))\n",
    "    criteria = (cv2.TermCriteria_EPS + cv2.TERM_CRITERIA_MAX_ITER,20,0.001)\n",
    "    ret, label, center = cv2.kmeans(data,k,None,criteria,10,cv2.KMEANS_RANDOM_CENTERS)\n",
    "    center = np.uint8(center)\n",
    "    result = center[label.flatten()]\n",
    "    result = result.reshape(img.shape)\n",
    "    return result"
   ]
  },
  {
   "cell_type": "code",
   "execution_count": 16,
   "id": "aab2d21f",
   "metadata": {},
   "outputs": [],
   "source": [
    "img =read_img('new.jfif')\n",
    "line_wdt = 9\n",
    "blur_value = 7\n",
    "totalColors = 4\n"
   ]
  },
  {
   "cell_type": "code",
   "execution_count": 17,
   "id": "2914bfed",
   "metadata": {
    "scrolled": false
   },
   "outputs": [
    {
     "data": {
      "text/plain": [
       "True"
      ]
     },
     "execution_count": 17,
     "metadata": {},
     "output_type": "execute_result"
    }
   ],
   "source": [
    "edgeImg = edge_detection(img,line_wdt,blur_value)\n",
    "img = color_quantisation(img,totalColors)\n",
    "blurred = cv2.bilateralFilter(img, d=7,sigmaColor=200,sigmaSpace=200)\n",
    "cartoon = cv2.bitwise_and(blurred,blurred,mask=edgeImg)\n",
    "cv2.imwrite('cartoon1.jpg',cartoon)"
   ]
  },
  {
   "cell_type": "code",
   "execution_count": null,
   "id": "1fa3c8e8",
   "metadata": {},
   "outputs": [],
   "source": []
  },
  {
   "cell_type": "code",
   "execution_count": null,
   "id": "ab971705",
   "metadata": {},
   "outputs": [],
   "source": []
  }
 ],
 "metadata": {
  "kernelspec": {
   "display_name": "Python 3 (ipykernel)",
   "language": "python",
   "name": "python3"
  },
  "language_info": {
   "codemirror_mode": {
    "name": "ipython",
    "version": 3
   },
   "file_extension": ".py",
   "mimetype": "text/x-python",
   "name": "python",
   "nbconvert_exporter": "python",
   "pygments_lexer": "ipython3",
   "version": "3.9.7"
  }
 },
 "nbformat": 4,
 "nbformat_minor": 5
}
